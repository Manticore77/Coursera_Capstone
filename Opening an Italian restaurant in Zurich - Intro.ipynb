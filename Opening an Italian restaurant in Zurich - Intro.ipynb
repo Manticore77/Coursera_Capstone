{
    "cells": [
        {
            "cell_type": "markdown",
            "metadata": {
                "collapsed": true
            },
            "source": "# IBM Data Science Capstone Project - The Battle of the Neighborhoods\n\n## <em>Opening an Intalian restaurant in the canton of Zurich, Switzerland</em>"
        },
        {
            "cell_type": "markdown",
            "metadata": {},
            "source": "## Table of contents:\n<ol>\n<li>Introduction/ Business problem</li>\n</ol>"
        },
        {
            "cell_type": "markdown",
            "metadata": {},
            "source": "### 1. Introduction/ Business problem:"
        },
        {
            "cell_type": "markdown",
            "metadata": {},
            "source": "A good friend would like to open an Italian restaurant in the canton of Zurich, Switzerland (a canton is like a state). As there is already a number of restaurants in the area (some of them Italian), he asked me to help him to **find out what the density of restaurants is**. \n\nHe does not really care where in Zurich he opens the restaurant, but it should be a city (based on ZIP code) that is less crowded with a) restaurants in general and b) specifically Italian restaurants. Additionally, he would like to not only serve people living in the area, **but also people working there** (for their lunch breaks and dinner meetings). Therefore, we also need to analyse the **density of businesses**. \n\nSo ideally, we would find a city with a low restaurant population (and ideally very few Italian ones) and with many people working in the area. \n\nIf possible, he would also like to have customer ratings from the restaurants that might be competitors. This way he can see if it might be easier to break into the area and build a successful business."
        }
    ],
    "metadata": {
        "kernelspec": {
            "display_name": "Python 3.7",
            "language": "python",
            "name": "python3"
        },
        "language_info": {
            "codemirror_mode": {
                "name": "ipython",
                "version": 3
            },
            "file_extension": ".py",
            "mimetype": "text/x-python",
            "name": "python",
            "nbconvert_exporter": "python",
            "pygments_lexer": "ipython3",
            "version": "3.7.9"
        }
    },
    "nbformat": 4,
    "nbformat_minor": 1
}