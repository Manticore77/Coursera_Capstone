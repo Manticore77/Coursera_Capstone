{
    "cells": [
        {
            "cell_type": "markdown",
            "metadata": {
                "collapsed": true
            },
            "source": "# IBM Data Science Capstone Project - The Battle of the Neighborhoods\n\n## <em>Opening an Intalian restaurant in the canton of Zurich, Switzerland</em>"
        },
        {
            "cell_type": "markdown",
            "metadata": {},
            "source": "## Table of contents:\n<ol start=\"2\">\n<li>Data description</li>\n</ol>"
        },
        {
            "cell_type": "markdown",
            "metadata": {},
            "source": "### 2. Data description:"
        },
        {
            "cell_type": "markdown",
            "metadata": {},
            "source": "Based on our problem description, I will need data for the following:\n* overview of the existing restaurants (incl. types of restaurants) in the canton of Zurich, based on the ZIP codes of the cities\n* population per ZIP code\n* number of businesses per ZIP code\n* optional: ratings for the focus areas that we will determine with the above data\n\nThere is an open data portal available for Switzerland (https://opendata.swiss/en/). This collects data from all official government sources and makes them available for download in various formats. I will get parts of my data from there.\n\n**Specifically, this is the data (incl. source) that I will use**:\n* ZIP codes for Swiss cities (filtered for Zurich), this list already contains the geocoordinated of the ZIP codes (from Opendata, direct link included in a later section)\n* list of cities with population and number of business. This does not contain ZIP codes but so-called \"BFS codes\" (which are tax codes for the respective city). This data needs to be combined with the other list with the ZIP codes (which also includes the BFS code; this will be used for mapping)\n* overview of restaurants (per type) for the ZIP codes, based on a data extraction from Foursquare (via API)\n* optional: restaurant ratings - as the ratings are only included in a Foursquare premium account, this will be attempted with the Google API with Google ratings, based on the restaurant names (for selected focus areas only)\n\nI will then use the data to first create a Pandas dataframe of the combined data (Zurich ZIP codes with geocoordinated, population per ZIP code and number of businesses). Then, I will extract the restaurants from Foursquare and calculate the number of restaurants and Italian restaurants per ZIP code. I will then generate a map to show population density vs number of restaurants and business desity vs number of restaurants to deternine the focus areas. For these, I will attempt to get the rating for the Italian restaurants from Google *to finally determine where to open the restaurant*."
        },
        {
            "cell_type": "code",
            "execution_count": null,
            "metadata": {},
            "outputs": [],
            "source": ""
        }
    ],
    "metadata": {
        "kernelspec": {
            "display_name": "Python 3.7",
            "language": "python",
            "name": "python3"
        },
        "language_info": {
            "codemirror_mode": {
                "name": "ipython",
                "version": 3
            },
            "file_extension": ".py",
            "mimetype": "text/x-python",
            "name": "python",
            "nbconvert_exporter": "python",
            "pygments_lexer": "ipython3",
            "version": "3.7.9"
        }
    },
    "nbformat": 4,
    "nbformat_minor": 1
}